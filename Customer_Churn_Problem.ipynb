{
  "nbformat": 4,
  "nbformat_minor": 0,
  "metadata": {
    "kernelspec": {
      "display_name": "Python 3",
      "language": "python",
      "name": "python3"
    },
    "language_info": {
      "codemirror_mode": {
        "name": "ipython",
        "version": 3
      },
      "file_extension": ".py",
      "mimetype": "text/x-python",
      "name": "python",
      "nbconvert_exporter": "python",
      "pygments_lexer": "ipython3",
      "version": "3.7.4"
    },
    "colab": {
      "name": "Customer_Churn_Problem.ipynb",
      "provenance": [],
      "collapsed_sections": []
    }
  },
  "cells": [
    {
      "cell_type": "markdown",
      "metadata": {
        "id": "JKG3qCTLB2-o",
        "colab_type": "text"
      },
      "source": [
        "To open notebook in Colab please click below:\n",
        "\n",
        "<a href=\"https://colab.research.google.com/github/bwolfson2/foster_2020/blob/master/Homeworks/Homework%203.ipynb\" target=\"_parent\"> <img src=\"https://colab.research.google.com/assets/colab-badge.svg\" alt=\"Open In Colab\" /> </a>'"
      ]
    },
    {
      "cell_type": "markdown",
      "metadata": {
        "id": "WO9-ovAoB2-p",
        "colab_type": "text"
      },
      "source": [
        "# Predicting Churn\n",
        "\n",
        "You've been authorized to give the retention offer to up to 25% of the customers whose contract is expiring. It is your job to use data from previous contract expirations to build a churn predictive model and make a recommendation of whom to target with the offers. The historical data includes:\n",
        "\n",
        "- Gender: Whether the customer is a male or a female\n",
        "- SeniorCitizen: Whether the customer is a senior citizen or not (1, 0)\n",
        "- Partner: Whether the customer has a partner or not (Yes, No)\n",
        "- Dependents: Whether the customer has dependents or not (Yes, No)\n",
        "- tenure: Number of months the customer has stayed with the company\n",
        "- PhoneService: Whether the customer has a phone service or not (Yes, No)\n",
        "- MultipleLines: Whether the customer has multiple lines or not (Yes, No, No phone service)\n",
        "- InternetService: Customer’s internet service provider (DSL, Fiber optic, No)\n",
        "- OnlineSecurity: Whether the customer has online security or not (Yes, No, No internet service)\n",
        "- OnlineBackup: Whether the customer has online backup or not (Yes, No, No internet service)\n",
        "- DeviceProtection: Whether the customer has device protection or not (Yes, No, No internet service)\n",
        "- TechSupport: Whether the customer has tech support or not (Yes, No, No internet service)\n",
        "- StreamingTV: Whether the customer has streaming TV or not (Yes, No, No internet service)\n",
        "- StreamingMovies: Whether the customer has streaming movies or not (Yes, No, No internet service)\n",
        "- Contract: The contract term of the customer (Month-to-month, One year, Two year)\n",
        "- PaperlessBilling: Whether the customer has paperless billing or not (Yes, No)\n",
        "- PaymentMethod: The customer’s payment method (Electronic check, Mailed check, Bank transfer (automatic), Credit card (automatic))\n",
        "- MonthlyCharges: The amount charged to the customer monthly\n",
        "- Churn: Whether the customer churned or not shortly after contract expiration (Yes or No)"
      ]
    },
    {
      "cell_type": "markdown",
      "metadata": {
        "id": "jnNwHDNYB2-p",
        "colab_type": "text"
      },
      "source": [
        "__1. Load the churn data. The code below will also transform your categorical variables into dummy variables."
      ]
    },
    {
      "cell_type": "code",
      "metadata": {
        "id": "rGfN0aFAB2-p",
        "colab_type": "code",
        "colab": {}
      },
      "source": [
        "import numpy as np\n",
        "import pandas as pd\n",
        "\n",
        "# Just change the path below so that it points to your file.\n",
        "data_path = \"https://raw.githubusercontent.com/bwolfson2/foster_2020/master/Homeworks/data/data-hw3.csv\"\n",
        "\n",
        "df = pd.read_csv(data_path)\n"
      ],
      "execution_count": 0,
      "outputs": []
    },
    {
      "cell_type": "markdown",
      "metadata": {
        "id": "e0Ux6a6HB2-s",
        "colab_type": "text"
      },
      "source": [
        "__2. Split the data into 80% training data and 20% test data.__"
      ]
    },
    {
      "cell_type": "code",
      "metadata": {
        "id": "qLq7x8geB2-s",
        "colab_type": "code",
        "colab": {}
      },
      "source": [
        "# Your code goes here\n",
        "\n",
        "from sklearn.model_selection import train_test_split\n",
        "df = pd.get_dummies(df, drop_first=True)\n",
        "target_col = \"Churn_Yes\"\n",
        "predictor_cols = df.columns[df.columns != target_col]\n",
        "# shuffled_data = df.sample(frac=1)\n",
        "X=df[predictor_cols]\n",
        "Y=df[target_col]\n",
        "X_train, X_test, Y_train, Y_test = train_test_split(X, Y, test_size=0.2)\n"
      ],
      "execution_count": 0,
      "outputs": []
    },
    {
      "cell_type": "markdown",
      "metadata": {
        "id": "ElUjRiVJB2-u",
        "colab_type": "text"
      },
      "source": [
        "__3. Trying out three model types:__\n",
        "- __A decision tree classifier. \n",
        "- __A logistic regression. \n",
        "- __KNN Classifier\n",
        "\n"
      ]
    },
    {
      "cell_type": "code",
      "metadata": {
        "id": "H7hAbEVzDLsr",
        "colab_type": "code",
        "outputId": "1854054a-c360-4114-8a38-013892dd89ec",
        "colab": {
          "base_uri": "https://localhost:8080/",
          "height": 33
        }
      },
      "source": [
        "from sklearn.metrics import accuracy_score\n",
        "from sklearn.tree import DecisionTreeClassifier\n",
        "from sklearn.model_selection import cross_val_score\n",
        "\n",
        "model = DecisionTreeClassifier(min_samples_leaf=1)\n",
        "model.fit(X_train, Y_train)\n",
        "\n",
        "print ( \"Accuracy on training = %.4f\" % accuracy_score(model.predict(X_train), Y_train) )"
      ],
      "execution_count": 0,
      "outputs": [
        {
          "output_type": "stream",
          "text": [
            "Accuracy on training = 0.9979\n"
          ],
          "name": "stdout"
        }
      ]
    },
    {
      "cell_type": "code",
      "metadata": {
        "id": "peIWYhq2DgPf",
        "colab_type": "code",
        "outputId": "cc44da55-9941-4fa8-9338-dfd354733abc",
        "colab": {
          "base_uri": "https://localhost:8080/",
          "height": 651
        }
      },
      "source": [
        "step=1\n",
        "while step <= 5000:\n",
        "  model = DecisionTreeClassifier(min_samples_leaf=step)\n",
        "  model.fit(X_train, Y_train)\n",
        "  scores = cross_val_score(model, X, Y, scoring=\"accuracy\", cv=5)\n",
        "  print(\"Min-leave\" , step)\n",
        "  print ( \"Accuracy on training = %.4f\" % accuracy_score(model.predict(X_train), Y_train) )\n",
        "  print (\"Cross Validated Accuracy: %0.3f +/- %0.3f\" % (scores.mean(), scores.std()))\n",
        "\n",
        "  step=step*2"
      ],
      "execution_count": 0,
      "outputs": [
        {
          "output_type": "stream",
          "text": [
            "Min-leave 1\n",
            "Accuracy on training = 0.9979\n",
            "Cross Validated Accuracy: 0.730 +/- 0.008\n",
            "Min-leave 2\n",
            "Accuracy on training = 0.9422\n",
            "Cross Validated Accuracy: 0.741 +/- 0.009\n",
            "Min-leave 4\n",
            "Accuracy on training = 0.8946\n",
            "Cross Validated Accuracy: 0.755 +/- 0.014\n",
            "Min-leave 8\n",
            "Accuracy on training = 0.8549\n",
            "Cross Validated Accuracy: 0.770 +/- 0.008\n",
            "Min-leave 16\n",
            "Accuracy on training = 0.8327\n",
            "Cross Validated Accuracy: 0.781 +/- 0.011\n",
            "Min-leave 32\n",
            "Accuracy on training = 0.8144\n",
            "Cross Validated Accuracy: 0.786 +/- 0.006\n",
            "Min-leave 64\n",
            "Accuracy on training = 0.8059\n",
            "Cross Validated Accuracy: 0.793 +/- 0.007\n",
            "Min-leave 128\n",
            "Accuracy on training = 0.8028\n",
            "Cross Validated Accuracy: 0.790 +/- 0.007\n",
            "Min-leave 256\n",
            "Accuracy on training = 0.7893\n",
            "Cross Validated Accuracy: 0.788 +/- 0.008\n",
            "Min-leave 512\n",
            "Accuracy on training = 0.7890\n",
            "Cross Validated Accuracy: 0.790 +/- 0.008\n",
            "Min-leave 1024\n",
            "Accuracy on training = 0.7355\n",
            "Cross Validated Accuracy: 0.749 +/- 0.018\n",
            "Min-leave 2048\n",
            "Accuracy on training = 0.7355\n",
            "Cross Validated Accuracy: 0.734 +/- 0.000\n",
            "Min-leave 4096\n",
            "Accuracy on training = 0.7355\n",
            "Cross Validated Accuracy: 0.734 +/- 0.000\n"
          ],
          "name": "stdout"
        }
      ]
    },
    {
      "cell_type": "code",
      "metadata": {
        "id": "RAiSkGQ7B2-v",
        "colab_type": "code",
        "outputId": "dfc0b5c6-039c-4e96-da05-7eb753d62622",
        "colab": {
          "base_uri": "https://localhost:8080/",
          "height": 33
        }
      },
      "source": [
        "#Cross Val score for decision tree classifier\n",
        "# from sklearn.tree import DecisionTreeClassifier\n",
        "# from sklearn.model_selection import cross_val_score\n",
        "\n",
        "from sklearn.model_selection import cross_val_score\n",
        "\n",
        "model = DecisionTreeClassifier(max_depth=5)\n",
        "scores = cross_val_score(model, X, Y, scoring=\"accuracy\", cv=5)\n",
        "\n",
        "print (\"Cross Validated Accuracy: %0.3f +/- %0.3f\" % (scores.mean(), scores.std()))"
      ],
      "execution_count": 0,
      "outputs": [
        {
          "output_type": "stream",
          "text": [
            "Cross Validated Accuracy: 0.786 +/- 0.009\n"
          ],
          "name": "stdout"
        }
      ]
    },
    {
      "cell_type": "code",
      "metadata": {
        "id": "4OSViLc8EHzb",
        "colab_type": "code",
        "outputId": "4a37fb33-e873-4685-ef29-2e890c6dc1bc",
        "colab": {
          "base_uri": "https://localhost:8080/",
          "height": 228
        }
      },
      "source": [
        "#Logistic Regression Model\n",
        "from sklearn import  linear_model\n",
        "from sklearn import metrics\n",
        "print (Y_train)\n",
        "lin_model = linear_model.LogisticRegression(C=1000000, solver='liblinear')\n",
        "\n",
        "lin_model.fit(X_train,Y_train)\n",
        "print ( \"Accuracy on training = %.4f\" % accuracy_score(lin_model.predict(X_train), Y_train) )"
      ],
      "execution_count": 0,
      "outputs": [
        {
          "output_type": "stream",
          "text": [
            "6072    0\n",
            "2648    0\n",
            "1445    0\n",
            "721     1\n",
            "2461    0\n",
            "       ..\n",
            "4917    0\n",
            "1457    0\n",
            "4259    1\n",
            "3075    0\n",
            "5026    0\n",
            "Name: Churn_Yes, Length: 5625, dtype: uint8\n",
            "Accuracy on training = 0.8052\n"
          ],
          "name": "stdout"
        }
      ]
    },
    {
      "cell_type": "code",
      "metadata": {
        "id": "9kTnusAEEWp8",
        "colab_type": "code",
        "outputId": "bf711d5a-a62a-4475-98e1-57b401d3366b",
        "colab": {
          "base_uri": "https://localhost:8080/",
          "height": 1000
        }
      },
      "source": [
        "#Changing value of c\n",
        "for c in range(1,10000,100):\n",
        "  lin_model = linear_model.LogisticRegression(C=c, solver='liblinear')\n",
        "  lin_model.fit(X_train,Y_train)\n",
        "  print ( \"Accuracy on training = %.4f\" % accuracy_score(lin_model.predict(X_train), Y_train) )"
      ],
      "execution_count": 0,
      "outputs": [
        {
          "output_type": "stream",
          "text": [
            "Accuracy on training = 0.8053\n",
            "Accuracy on training = 0.8053\n",
            "Accuracy on training = 0.8062\n",
            "Accuracy on training = 0.8052\n",
            "Accuracy on training = 0.8052\n",
            "Accuracy on training = 0.8052\n",
            "Accuracy on training = 0.8052\n",
            "Accuracy on training = 0.8064\n",
            "Accuracy on training = 0.8052\n",
            "Accuracy on training = 0.8052\n",
            "Accuracy on training = 0.8062\n",
            "Accuracy on training = 0.8052\n",
            "Accuracy on training = 0.8052\n",
            "Accuracy on training = 0.8064\n",
            "Accuracy on training = 0.8052\n",
            "Accuracy on training = 0.8052\n",
            "Accuracy on training = 0.8052\n",
            "Accuracy on training = 0.8052\n",
            "Accuracy on training = 0.8052\n",
            "Accuracy on training = 0.8052\n",
            "Accuracy on training = 0.8052\n",
            "Accuracy on training = 0.8052\n",
            "Accuracy on training = 0.8052\n",
            "Accuracy on training = 0.8064\n",
            "Accuracy on training = 0.8052\n",
            "Accuracy on training = 0.8052\n",
            "Accuracy on training = 0.8052\n",
            "Accuracy on training = 0.8052\n",
            "Accuracy on training = 0.8062\n",
            "Accuracy on training = 0.8052\n",
            "Accuracy on training = 0.8052\n",
            "Accuracy on training = 0.8052\n",
            "Accuracy on training = 0.8052\n",
            "Accuracy on training = 0.8052\n",
            "Accuracy on training = 0.8052\n",
            "Accuracy on training = 0.8052\n",
            "Accuracy on training = 0.8052\n",
            "Accuracy on training = 0.8052\n",
            "Accuracy on training = 0.8052\n",
            "Accuracy on training = 0.8052\n",
            "Accuracy on training = 0.8052\n",
            "Accuracy on training = 0.8052\n",
            "Accuracy on training = 0.8052\n",
            "Accuracy on training = 0.8052\n",
            "Accuracy on training = 0.8052\n",
            "Accuracy on training = 0.8052\n",
            "Accuracy on training = 0.8052\n",
            "Accuracy on training = 0.8052\n",
            "Accuracy on training = 0.8052\n",
            "Accuracy on training = 0.8052\n",
            "Accuracy on training = 0.8052\n",
            "Accuracy on training = 0.8062\n",
            "Accuracy on training = 0.8052\n",
            "Accuracy on training = 0.8052\n",
            "Accuracy on training = 0.8052\n",
            "Accuracy on training = 0.8052\n",
            "Accuracy on training = 0.8052\n",
            "Accuracy on training = 0.8062\n",
            "Accuracy on training = 0.8052\n",
            "Accuracy on training = 0.8052\n",
            "Accuracy on training = 0.8052\n",
            "Accuracy on training = 0.8052\n",
            "Accuracy on training = 0.8052\n",
            "Accuracy on training = 0.8052\n",
            "Accuracy on training = 0.8062\n",
            "Accuracy on training = 0.8052\n",
            "Accuracy on training = 0.8052\n",
            "Accuracy on training = 0.8052\n",
            "Accuracy on training = 0.8052\n",
            "Accuracy on training = 0.8052\n",
            "Accuracy on training = 0.8062\n",
            "Accuracy on training = 0.8052\n",
            "Accuracy on training = 0.8052\n",
            "Accuracy on training = 0.8052\n",
            "Accuracy on training = 0.8052\n",
            "Accuracy on training = 0.8052\n",
            "Accuracy on training = 0.8052\n",
            "Accuracy on training = 0.8052\n",
            "Accuracy on training = 0.8052\n",
            "Accuracy on training = 0.8052\n",
            "Accuracy on training = 0.8052\n",
            "Accuracy on training = 0.8052\n",
            "Accuracy on training = 0.8052\n",
            "Accuracy on training = 0.8052\n",
            "Accuracy on training = 0.8052\n",
            "Accuracy on training = 0.8052\n",
            "Accuracy on training = 0.8052\n",
            "Accuracy on training = 0.8052\n",
            "Accuracy on training = 0.8052\n",
            "Accuracy on training = 0.8052\n",
            "Accuracy on training = 0.8052\n",
            "Accuracy on training = 0.8052\n",
            "Accuracy on training = 0.8052\n",
            "Accuracy on training = 0.8052\n",
            "Accuracy on training = 0.8052\n",
            "Accuracy on training = 0.8052\n",
            "Accuracy on training = 0.8052\n",
            "Accuracy on training = 0.8052\n",
            "Accuracy on training = 0.8052\n",
            "Accuracy on training = 0.8052\n"
          ],
          "name": "stdout"
        }
      ]
    },
    {
      "cell_type": "code",
      "metadata": {
        "id": "vGtIshvgFY-t",
        "colab_type": "code",
        "outputId": "d876007e-5915-4b20-adeb-65495f5a10f1",
        "colab": {
          "base_uri": "https://localhost:8080/",
          "height": 33
        }
      },
      "source": [
        "target = \"Churn_Yes\"\n",
        "avg_auc = cross_val_score(lin_model, df[predictor_cols], df[target_col], cv=10, scoring=\"roc_auc\").mean()\n",
        "print(avg_auc)"
      ],
      "execution_count": 0,
      "outputs": [
        {
          "output_type": "stream",
          "text": [
            "0.8431612265117501\n"
          ],
          "name": "stdout"
        }
      ]
    },
    {
      "cell_type": "code",
      "metadata": {
        "id": "LVGWGZAMFoU_",
        "colab_type": "code",
        "outputId": "6118864a-2526-40bd-f05e-7cfb31e8e466",
        "colab": {
          "base_uri": "https://localhost:8080/",
          "height": 33
        }
      },
      "source": [
        "#knn\n",
        "from sklearn.neighbors import KNeighborsClassifier\n",
        "knn = KNeighborsClassifier(n_neighbors=1, metric='euclidean')\n",
        "knn.fit(X_train,  Y_train)\n",
        "print ( \"Accuracy on training = %.4f\" % accuracy_score(knn.predict(X_train), Y_train) )"
      ],
      "execution_count": 0,
      "outputs": [
        {
          "output_type": "stream",
          "text": [
            "Accuracy on training = 0.9977\n"
          ],
          "name": "stdout"
        }
      ]
    },
    {
      "cell_type": "code",
      "metadata": {
        "id": "1wgfg4yFFofM",
        "colab_type": "code",
        "outputId": "c1ffa37f-6b7e-459c-f68b-ea2507cdfb80",
        "colab": {
          "base_uri": "https://localhost:8080/",
          "height": 830
        }
      },
      "source": [
        "for n in range(1,500,10): \n",
        "  knn = KNeighborsClassifier(n_neighbors=n, metric='euclidean')\n",
        "  knn.fit(X_train,  Y_train)\n",
        "  print ( \"Accuracy on training = %.4f\" % accuracy_score(knn.predict(X_train), Y_train) )"
      ],
      "execution_count": 0,
      "outputs": [
        {
          "output_type": "stream",
          "text": [
            "Accuracy on training = 0.9977\n",
            "Accuracy on training = 0.8156\n",
            "Accuracy on training = 0.8080\n",
            "Accuracy on training = 0.8018\n",
            "Accuracy on training = 0.7991\n",
            "Accuracy on training = 0.8002\n",
            "Accuracy on training = 0.7977\n",
            "Accuracy on training = 0.7961\n",
            "Accuracy on training = 0.7961\n",
            "Accuracy on training = 0.7957\n",
            "Accuracy on training = 0.7964\n",
            "Accuracy on training = 0.7956\n",
            "Accuracy on training = 0.7943\n",
            "Accuracy on training = 0.7956\n",
            "Accuracy on training = 0.7945\n",
            "Accuracy on training = 0.7950\n",
            "Accuracy on training = 0.7934\n",
            "Accuracy on training = 0.7920\n",
            "Accuracy on training = 0.7936\n",
            "Accuracy on training = 0.7938\n",
            "Accuracy on training = 0.7936\n",
            "Accuracy on training = 0.7931\n",
            "Accuracy on training = 0.7915\n",
            "Accuracy on training = 0.7918\n",
            "Accuracy on training = 0.7918\n",
            "Accuracy on training = 0.7902\n",
            "Accuracy on training = 0.7899\n",
            "Accuracy on training = 0.7909\n",
            "Accuracy on training = 0.7906\n",
            "Accuracy on training = 0.7904\n",
            "Accuracy on training = 0.7900\n",
            "Accuracy on training = 0.7902\n",
            "Accuracy on training = 0.7915\n",
            "Accuracy on training = 0.7913\n",
            "Accuracy on training = 0.7904\n",
            "Accuracy on training = 0.7906\n",
            "Accuracy on training = 0.7904\n",
            "Accuracy on training = 0.7906\n",
            "Accuracy on training = 0.7904\n",
            "Accuracy on training = 0.7904\n",
            "Accuracy on training = 0.7899\n",
            "Accuracy on training = 0.7902\n",
            "Accuracy on training = 0.7899\n",
            "Accuracy on training = 0.7899\n",
            "Accuracy on training = 0.7897\n",
            "Accuracy on training = 0.7897\n",
            "Accuracy on training = 0.7902\n",
            "Accuracy on training = 0.7908\n",
            "Accuracy on training = 0.7908\n",
            "Accuracy on training = 0.7902\n"
          ],
          "name": "stdout"
        }
      ]
    },
    {
      "cell_type": "code",
      "metadata": {
        "id": "Itu48ebyFoqM",
        "colab_type": "code",
        "outputId": "0a843b58-4034-4ee8-f49a-71c4eb54e604",
        "colab": {
          "base_uri": "https://localhost:8080/",
          "height": 33
        }
      },
      "source": [
        "# target = \"Churn_Yes\"\n",
        "# avg_auc = cross_val_score(knn, df[predictor_cols], df[target_col], cv=10, scoring=\"roc_auc\").mean()\n",
        "# print(avg_auc)\n",
        "\n",
        "scores = cross_val_score(knn, X, Y, scoring=\"accuracy\", cv=5)\n",
        "\n",
        "print (\"Cross Validated Accuracy: %0.3f +/- %0.3f\" % (scores.mean(), scores.std()))"
      ],
      "execution_count": 0,
      "outputs": [
        {
          "output_type": "stream",
          "text": [
            "Cross Validated Accuracy: 0.788 +/- 0.007\n"
          ],
          "name": "stdout"
        }
      ]
    },
    {
      "cell_type": "markdown",
      "metadata": {
        "id": "LaKI3QMgB2-0",
        "colab_type": "text"
      },
      "source": [
        "__4.Plotting ROC Curves for test data for selecting best model"
      ]
    },
    {
      "cell_type": "markdown",
      "metadata": {
        "id": "ZWyedlFe0p4J",
        "colab_type": "text"
      },
      "source": [
        "Selected Logistic Regression as its giving ROC curve closer to left most corner**"
      ]
    },
    {
      "cell_type": "code",
      "metadata": {
        "id": "uqQFszQLB2-1",
        "colab_type": "code",
        "outputId": "c1fea66e-f97f-4753-9c2d-972d1f3d2189",
        "colab": {
          "base_uri": "https://localhost:8080/",
          "height": 541
        }
      },
      "source": [
        "from sklearn.metrics import roc_curve, roc_auc_score\n",
        "import matplotlib.pyplot as plt\n",
        "result_table = pd.DataFrame(columns=['classifiers', 'fpr','tpr','auc'])\n",
        "\n",
        "\n",
        "classifiers = [ \n",
        "              linear_model.LogisticRegression(random_state=1234), \n",
        "              KNeighborsClassifier(n_neighbors=1), \n",
        "               DecisionTreeClassifier(random_state=1234)]\n",
        "               \n",
        "for cls in classifiers:\n",
        "    model = cls.fit(X_train, Y_train)\n",
        "    yproba = model.predict_proba(X_test)[::,1]\n",
        "    \n",
        "    fpr, tpr, _ = roc_curve(Y_test,  yproba)\n",
        "    auc = roc_auc_score(Y_test, yproba)\n",
        "    \n",
        "    result_table = result_table.append({'classifiers':cls.__class__.__name__,\n",
        "                                        'fpr':fpr, \n",
        "                                        'tpr':tpr, \n",
        "                                        'auc':auc}, ignore_index=True)\n",
        "\n",
        "# Set name of the classifiers as index labels\n",
        "result_table.set_index('classifiers', inplace=True)\n",
        "fig = plt.figure(figsize=(8,6))\n",
        "\n",
        "for i in result_table.index:\n",
        "    plt.plot(result_table.loc[i]['fpr'], \n",
        "             result_table.loc[i]['tpr'], \n",
        "             label=\"{}, AUC={:.3f}\".format(i, result_table.loc[i]['auc']))\n",
        "    \n",
        "plt.plot([0,1], [0,1], color='orange', linestyle='--')\n",
        "\n",
        "plt.xticks(np.arange(0.0, 1.1, step=0.1))\n",
        "plt.xlabel(\"Flase Positive Rate\", fontsize=15)\n",
        "\n",
        "plt.yticks(np.arange(0.0, 1.1, step=0.1))\n",
        "plt.ylabel(\"True Positive Rate\", fontsize=15)\n",
        "\n",
        "plt.title('ROC Curve Analysis', fontweight='bold', fontsize=15)\n",
        "plt.legend(prop={'size':13}, loc='lower right')\n",
        "\n",
        "plt.show()"
      ],
      "execution_count": 0,
      "outputs": [
        {
          "output_type": "stream",
          "text": [
            "/usr/local/lib/python3.6/dist-packages/sklearn/linear_model/_logistic.py:940: ConvergenceWarning: lbfgs failed to converge (status=1):\n",
            "STOP: TOTAL NO. of ITERATIONS REACHED LIMIT.\n",
            "\n",
            "Increase the number of iterations (max_iter) or scale the data as shown in:\n",
            "    https://scikit-learn.org/stable/modules/preprocessing.html\n",
            "Please also refer to the documentation for alternative solver options:\n",
            "    https://scikit-learn.org/stable/modules/linear_model.html#logistic-regression\n",
            "  extra_warning_msg=_LOGISTIC_SOLVER_CONVERGENCE_MSG)\n"
          ],
          "name": "stderr"
        },
        {
          "output_type": "display_data",
          "data": {
            "image/png": "[encoded data removed]",
            "text/plain": [
              "<Figure size 576x432 with 1 Axes>"
            ]
          },
          "metadata": {
            "tags": []
          }
        }
      ]
    },
    {
      "cell_type": "markdown",
      "metadata": {
        "id": "T3V_-rycB2-7",
        "colab_type": "text"
      },
      "source": [
        "__Spliting  training data into two sets, one with 90% of the data (the \"sub-training\" set) and another with 10% of the data (the validation set). Trained the model and applied it to the validation set, and plotted a profit curve by ranking customers according to their probability of churning."
      ]
    },
    {
      "cell_type": "code",
      "metadata": {
        "id": "cVgBgnvjB2-7",
        "colab_type": "code",
        "outputId": "b743c5aa-f71f-4b7d-f998-e62395f6c73a",
        "colab": {
          "base_uri": "https://localhost:8080/",
          "height": 228
        }
      },
      "source": [
        "# Your code goes here\n",
        "import sklearn.metrics as metrics\n",
        "\n",
        "X_sub_train, X_sub_test, Y_sub_train, Y_sub_test = train_test_split(X_train, Y_train, test_size=0.1)\n",
        "# # Make and fit a model on the training data\n",
        "model_mailing = linear_model.LogisticRegression(C=100)\n",
        "model_mailing.fit(X_sub_train, Y_sub_train)\n",
        "\n"
      ],
      "execution_count": 0,
      "outputs": [
        {
          "output_type": "stream",
          "text": [
            "/usr/local/lib/python3.6/dist-packages/sklearn/linear_model/_logistic.py:940: ConvergenceWarning: lbfgs failed to converge (status=1):\n",
            "STOP: TOTAL NO. of ITERATIONS REACHED LIMIT.\n",
            "\n",
            "Increase the number of iterations (max_iter) or scale the data as shown in:\n",
            "    https://scikit-learn.org/stable/modules/preprocessing.html\n",
            "Please also refer to the documentation for alternative solver options:\n",
            "    https://scikit-learn.org/stable/modules/linear_model.html#logistic-regression\n",
            "  extra_warning_msg=_LOGISTIC_SOLVER_CONVERGENCE_MSG)\n"
          ],
          "name": "stderr"
        },
        {
          "output_type": "execute_result",
          "data": {
            "text/plain": [
              "LogisticRegression(C=100, class_weight=None, dual=False, fit_intercept=True,\n",
              "                   intercept_scaling=1, l1_ratio=None, max_iter=100,\n",
              "                   multi_class='auto', n_jobs=None, penalty='l2',\n",
              "                   random_state=None, solver='lbfgs', tol=0.0001, verbose=0,\n",
              "                   warm_start=False)"
            ]
          },
          "metadata": {
            "tags": []
          },
          "execution_count": 608
        }
      ]
    },
    {
      "cell_type": "code",
      "metadata": {
        "id": "L0g8vcyJ6rHc",
        "colab_type": "code",
        "colab": {}
      },
      "source": [
        "unit_cost=200\n",
        "unit_revenue = X_sub_train.MonthlyCharges.mean()*12"
      ],
      "execution_count": 0,
      "outputs": []
    },
    {
      "cell_type": "code",
      "metadata": {
        "id": "7nUSQ1cJ0OIf",
        "colab_type": "code",
        "outputId": "567a3b5d-36c2-4386-ea84-110756517f4c",
        "colab": {
          "base_uri": "https://localhost:8080/",
          "height": 327
        }
      },
      "source": [
        "\n",
        "Y_test_probability_1 = model_mailing.predict_proba(X_sub_test)[:, 1]\n",
        "order = np.argsort(Y_test_probability_1)[::-1]\n",
        "Y_test_probability_1_sorted = Y_test_probability_1[order]\n",
        "Y_test_sorted = np.array(Y_sub_test)[order]\n",
        "X_test_sorted = np.array(X_sub_test)[order]\n",
        "\n",
        "x_cumulative = np.arange(len(Y_test_probability_1_sorted)) + 1\n",
        "y_cumulative = np.cumsum(np.multiply(Y_test_sorted,X_test_sorted[:,2])*12 -200)\n",
        "x_cumulative = np.array(x_cumulative)/float(x_cumulative.max()) * 1\n",
        "y_cumulative = np.array(y_cumulative)/float(y_cumulative.max()) * 1\n",
        "total_obs = len(Y_sub_train)\n",
        "total_pos = Y_sub_test.sum()\n",
        "plt.plot(x_cumulative*100, y_cumulative*100)\n",
        "\n",
        "plt.xlabel(\"Percentage of users targeted\")\n",
        "plt.ylabel(\"Profit\")\n",
        "plt.title(\"Profit curve\")\n",
        "plt.legend()\n",
        "    "
      ],
      "execution_count": 0,
      "outputs": [
        {
          "output_type": "stream",
          "text": [
            "No handles with labels found to put in legend.\n"
          ],
          "name": "stderr"
        },
        {
          "output_type": "execute_result",
          "data": {
            "text/plain": [
              "<matplotlib.legend.Legend at 0x7f43e08aeb38>"
            ]
          },
          "metadata": {
            "tags": []
          },
          "execution_count": 610
        },
        {
          "output_type": "display_data",
          "data": {
            "image/png": "[encoded data removed]",
            "text/plain": [
              "<Figure size 432x288 with 1 Axes>"
            ]
          },
          "metadata": {
            "tags": []
          }
        }
      ]
    },
    {
      "cell_type": "markdown",
      "metadata": {
        "id": "1zACJa2aZlY3",
        "colab_type": "text"
      },
      "source": [
        "Another way would be to rank as per profit. \n",
        "I followed the following steps - \n",
        "1) Get all users with probability > 0.05\n",
        "2) Rank them on basis of profit they would generate \n",
        "3) Select the ones with maximum profit to give retention offer to \n"
      ]
    },
    {
      "cell_type": "code",
      "metadata": {
        "id": "TiLjpwFdB2--",
        "colab_type": "code",
        "outputId": "84e828c8-a59e-47b6-9b37-56033d8c1c95",
        "colab": {
          "base_uri": "https://localhost:8080/",
          "height": 636
        }
      },
      "source": [
        "# Your code goes here\n",
        "# Your code goes here\n",
        "import sklearn.metrics as metrics\n",
        "\n",
        "X_sub_train, X_sub_test, Y_sub_train, Y_sub_test = train_test_split(X_train, Y_train, test_size=0.1)\n",
        "# # Make and fit a model on the training data\n",
        "model_mailing = linear_model.LogisticRegression(C=100)\n",
        "model_mailing.fit(X_sub_train, Y_sub_train)\n",
        "\n",
        "Y_test_probability_2 = model_mailing.predict_proba(X_sub_test)[:, 1]\n",
        "\n",
        "X_sub_test_profit = X_sub_test\n",
        "\n",
        "X_sub_test_profit['Probability'] =Y_test_probability_2 \n",
        "\n",
        "X_sub_test_profit['offer_value'] = X_sub_test_profit.MonthlyCharges * 12 - 200\n",
        "\n",
        "\n",
        "\n",
        "\n",
        "X_sub_test_profit = X_sub_test_profit[X_sub_test_profit.Probability > 0.05]\n",
        "\n",
        "Y_test_probability_2 = Y_test_probability_2[Y_test_probability_2>0.05]\n",
        "\n",
        "X_sub_test_profit= X_sub_test_profit.sort_values(by=['offer_value'],ascending=False)\n",
        "\n",
        "X_profit= np.array(X_sub_test_profit['offer_value'])\n",
        "\n",
        "Y_Prob = np.array(X_sub_test_profit['Probability'])    \n",
        "\n",
        "\n",
        "x_cumulative = np.arange(len(Y_Prob)) + 1\n",
        "y_cumulative = np.cumsum(X_profit)\n",
        "\n",
        "x_cumulative = np.array(x_cumulative)/float(x_cumulative.max()) * 1\n",
        "y_cumulative = np.array(y_cumulative)/float(y_cumulative.max()) * 1\n",
        "\n",
        "plt.plot(x_cumulative*100, y_cumulative*100)\n",
        "plt.plot([0,100], [0,100], 'k--', label=\"Random\")\n",
        "plt.xlabel(\"Percentage of users targeted\")\n",
        "plt.ylabel(\"Profit\")\n",
        "plt.title(\"Profit curve\")\n",
        "plt.legend()\n",
        "    "
      ],
      "execution_count": 0,
      "outputs": [
        {
          "output_type": "stream",
          "text": [
            "/usr/local/lib/python3.6/dist-packages/sklearn/linear_model/_logistic.py:940: ConvergenceWarning: lbfgs failed to converge (status=1):\n",
            "STOP: TOTAL NO. of ITERATIONS REACHED LIMIT.\n",
            "\n",
            "Increase the number of iterations (max_iter) or scale the data as shown in:\n",
            "    https://scikit-learn.org/stable/modules/preprocessing.html\n",
            "Please also refer to the documentation for alternative solver options:\n",
            "    https://scikit-learn.org/stable/modules/linear_model.html#logistic-regression\n",
            "  extra_warning_msg=_LOGISTIC_SOLVER_CONVERGENCE_MSG)\n",
            "/usr/local/lib/python3.6/dist-packages/ipykernel_launcher.py:12: SettingWithCopyWarning: \n",
            "A value is trying to be set on a copy of a slice from a DataFrame.\n",
            "Try using .loc[row_indexer,col_indexer] = value instead\n",
            "\n",
            "See the caveats in the documentation: http://pandas.pydata.org/pandas-docs/stable/user_guide/indexing.html#returning-a-view-versus-a-copy\n",
            "  if sys.path[0] == '':\n",
            "/usr/local/lib/python3.6/dist-packages/ipykernel_launcher.py:14: SettingWithCopyWarning: \n",
            "A value is trying to be set on a copy of a slice from a DataFrame.\n",
            "Try using .loc[row_indexer,col_indexer] = value instead\n",
            "\n",
            "See the caveats in the documentation: http://pandas.pydata.org/pandas-docs/stable/user_guide/indexing.html#returning-a-view-versus-a-copy\n",
            "  \n"
          ],
          "name": "stderr"
        },
        {
          "output_type": "execute_result",
          "data": {
            "text/plain": [
              "<matplotlib.legend.Legend at 0x7f43e08964a8>"
            ]
          },
          "metadata": {
            "tags": []
          },
          "execution_count": 611
        },
        {
          "output_type": "display_data",
          "data": {
            "image/png": "[encoded data removed]",
            "text/plain": [
              "<Figure size 432x288 with 1 Axes>"
            ]
          },
          "metadata": {
            "tags": []
          }
        }
      ]
    }
  ]
}